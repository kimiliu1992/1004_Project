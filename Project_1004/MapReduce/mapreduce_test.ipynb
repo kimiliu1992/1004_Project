{
 "cells": [
  {
   "cell_type": "code",
   "execution_count": 1,
   "metadata": {
    "collapsed": true
   },
   "outputs": [],
   "source": [
    "import numpy as np\n",
    "import pandas as pd"
   ]
  },
  {
   "cell_type": "code",
   "execution_count": 2,
   "metadata": {
    "collapsed": false
   },
   "outputs": [
    {
     "name": "stderr",
     "output_type": "stream",
     "text": [
      "C:\\Users\\Hao\\Anaconda2\\lib\\site-packages\\IPython\\core\\interactiveshell.py:2902: DtypeWarning: Columns (9) have mixed types. Specify dtype option on import or set low_memory=False.\n",
      "  interactivity=interactivity, compiler=compiler, result=result)\n"
     ]
    }
   ],
   "source": [
    "data_1 = pd.read_csv('yellow_tripdata_2009-01.csv')\n",
    "data_2 = pd.read_csv('yellow_tripdata_2011-01.csv')"
   ]
  },
  {
   "cell_type": "code",
   "execution_count": 3,
   "metadata": {
    "collapsed": false
   },
   "outputs": [
    {
     "data": {
      "text/html": [
       "<div>\n",
       "<table border=\"1\" class=\"dataframe\">\n",
       "  <thead>\n",
       "    <tr style=\"text-align: right;\">\n",
       "      <th></th>\n",
       "      <th>Unnamed: 0</th>\n",
       "      <th>vendor_name</th>\n",
       "      <th>Trip_Pickup_DateTime</th>\n",
       "      <th>Trip_Dropoff_DateTime</th>\n",
       "      <th>Passenger_Count</th>\n",
       "      <th>Trip_Distance</th>\n",
       "      <th>Start_Lon</th>\n",
       "      <th>Start_Lat</th>\n",
       "      <th>Rate_Code</th>\n",
       "      <th>store_and_forward</th>\n",
       "      <th>End_Lon</th>\n",
       "      <th>End_Lat</th>\n",
       "      <th>Payment_Type</th>\n",
       "      <th>Fare_Amt</th>\n",
       "      <th>surcharge</th>\n",
       "      <th>mta_tax</th>\n",
       "      <th>Tip_Amt</th>\n",
       "      <th>Tolls_Amt</th>\n",
       "      <th>Total_Amt</th>\n",
       "      <th>Location_ID</th>\n",
       "    </tr>\n",
       "  </thead>\n",
       "  <tbody>\n",
       "    <tr>\n",
       "      <th>0</th>\n",
       "      <td>0</td>\n",
       "      <td>VTS</td>\n",
       "      <td>2009-01-04 02:52:00</td>\n",
       "      <td>2009-01-04 03:02:00</td>\n",
       "      <td>1</td>\n",
       "      <td>2.63</td>\n",
       "      <td>-73.991957</td>\n",
       "      <td>40.721567</td>\n",
       "      <td>NaN</td>\n",
       "      <td>NaN</td>\n",
       "      <td>-73.993803</td>\n",
       "      <td>40.695922</td>\n",
       "      <td>CASH</td>\n",
       "      <td>8.9</td>\n",
       "      <td>0.5</td>\n",
       "      <td>NaN</td>\n",
       "      <td>0.00</td>\n",
       "      <td>0</td>\n",
       "      <td>9.40</td>\n",
       "      <td>144</td>\n",
       "    </tr>\n",
       "    <tr>\n",
       "      <th>1</th>\n",
       "      <td>1</td>\n",
       "      <td>VTS</td>\n",
       "      <td>2009-01-04 03:31:00</td>\n",
       "      <td>2009-01-04 03:38:00</td>\n",
       "      <td>3</td>\n",
       "      <td>4.55</td>\n",
       "      <td>-73.982102</td>\n",
       "      <td>40.736290</td>\n",
       "      <td>NaN</td>\n",
       "      <td>NaN</td>\n",
       "      <td>-73.955850</td>\n",
       "      <td>40.768030</td>\n",
       "      <td>Credit</td>\n",
       "      <td>12.1</td>\n",
       "      <td>0.5</td>\n",
       "      <td>NaN</td>\n",
       "      <td>2.00</td>\n",
       "      <td>0</td>\n",
       "      <td>14.60</td>\n",
       "      <td>107</td>\n",
       "    </tr>\n",
       "    <tr>\n",
       "      <th>2</th>\n",
       "      <td>2</td>\n",
       "      <td>VTS</td>\n",
       "      <td>2009-01-03 15:43:00</td>\n",
       "      <td>2009-01-03 15:57:00</td>\n",
       "      <td>5</td>\n",
       "      <td>10.35</td>\n",
       "      <td>-74.002587</td>\n",
       "      <td>40.739748</td>\n",
       "      <td>NaN</td>\n",
       "      <td>NaN</td>\n",
       "      <td>-73.869983</td>\n",
       "      <td>40.770225</td>\n",
       "      <td>Credit</td>\n",
       "      <td>23.7</td>\n",
       "      <td>0.0</td>\n",
       "      <td>NaN</td>\n",
       "      <td>4.74</td>\n",
       "      <td>0</td>\n",
       "      <td>28.44</td>\n",
       "      <td>249</td>\n",
       "    </tr>\n",
       "    <tr>\n",
       "      <th>3</th>\n",
       "      <td>3</td>\n",
       "      <td>DDS</td>\n",
       "      <td>2009-01-01 20:52:58</td>\n",
       "      <td>2009-01-01 21:14:00</td>\n",
       "      <td>1</td>\n",
       "      <td>5.00</td>\n",
       "      <td>-73.974267</td>\n",
       "      <td>40.790955</td>\n",
       "      <td>NaN</td>\n",
       "      <td>NaN</td>\n",
       "      <td>-73.996558</td>\n",
       "      <td>40.731849</td>\n",
       "      <td>CREDIT</td>\n",
       "      <td>14.9</td>\n",
       "      <td>0.5</td>\n",
       "      <td>NaN</td>\n",
       "      <td>3.05</td>\n",
       "      <td>0</td>\n",
       "      <td>18.45</td>\n",
       "      <td>238</td>\n",
       "    </tr>\n",
       "    <tr>\n",
       "      <th>4</th>\n",
       "      <td>4</td>\n",
       "      <td>DDS</td>\n",
       "      <td>2009-01-24 16:18:23</td>\n",
       "      <td>2009-01-24 16:24:56</td>\n",
       "      <td>1</td>\n",
       "      <td>0.40</td>\n",
       "      <td>-74.001580</td>\n",
       "      <td>40.719382</td>\n",
       "      <td>NaN</td>\n",
       "      <td>NaN</td>\n",
       "      <td>-74.008378</td>\n",
       "      <td>40.720350</td>\n",
       "      <td>CASH</td>\n",
       "      <td>3.7</td>\n",
       "      <td>0.0</td>\n",
       "      <td>NaN</td>\n",
       "      <td>0.00</td>\n",
       "      <td>0</td>\n",
       "      <td>3.70</td>\n",
       "      <td>211</td>\n",
       "    </tr>\n",
       "  </tbody>\n",
       "</table>\n",
       "</div>"
      ],
      "text/plain": [
       "   Unnamed: 0 vendor_name Trip_Pickup_DateTime Trip_Dropoff_DateTime  \\\n",
       "0           0         VTS  2009-01-04 02:52:00   2009-01-04 03:02:00   \n",
       "1           1         VTS  2009-01-04 03:31:00   2009-01-04 03:38:00   \n",
       "2           2         VTS  2009-01-03 15:43:00   2009-01-03 15:57:00   \n",
       "3           3         DDS  2009-01-01 20:52:58   2009-01-01 21:14:00   \n",
       "4           4         DDS  2009-01-24 16:18:23   2009-01-24 16:24:56   \n",
       "\n",
       "   Passenger_Count  Trip_Distance  Start_Lon  Start_Lat  Rate_Code  \\\n",
       "0                1           2.63 -73.991957  40.721567        NaN   \n",
       "1                3           4.55 -73.982102  40.736290        NaN   \n",
       "2                5          10.35 -74.002587  40.739748        NaN   \n",
       "3                1           5.00 -73.974267  40.790955        NaN   \n",
       "4                1           0.40 -74.001580  40.719382        NaN   \n",
       "\n",
       "   store_and_forward    End_Lon    End_Lat Payment_Type  Fare_Amt  surcharge  \\\n",
       "0                NaN -73.993803  40.695922         CASH       8.9        0.5   \n",
       "1                NaN -73.955850  40.768030       Credit      12.1        0.5   \n",
       "2                NaN -73.869983  40.770225       Credit      23.7        0.0   \n",
       "3                NaN -73.996558  40.731849       CREDIT      14.9        0.5   \n",
       "4                NaN -74.008378  40.720350         CASH       3.7        0.0   \n",
       "\n",
       "   mta_tax  Tip_Amt  Tolls_Amt  Total_Amt  Location_ID  \n",
       "0      NaN     0.00          0       9.40          144  \n",
       "1      NaN     2.00          0      14.60          107  \n",
       "2      NaN     4.74          0      28.44          249  \n",
       "3      NaN     3.05          0      18.45          238  \n",
       "4      NaN     0.00          0       3.70          211  "
      ]
     },
     "execution_count": 3,
     "metadata": {},
     "output_type": "execute_result"
    }
   ],
   "source": [
    "data_1.head()"
   ]
  },
  {
   "cell_type": "code",
   "execution_count": 4,
   "metadata": {
    "collapsed": false
   },
   "outputs": [
    {
     "data": {
      "text/html": [
       "<div>\n",
       "<table border=\"1\" class=\"dataframe\">\n",
       "  <thead>\n",
       "    <tr style=\"text-align: right;\">\n",
       "      <th></th>\n",
       "      <th>Unnamed: 0</th>\n",
       "      <th>vendor_id</th>\n",
       "      <th>pickup_datetime</th>\n",
       "      <th>dropoff_datetime</th>\n",
       "      <th>passenger_count</th>\n",
       "      <th>trip_distance</th>\n",
       "      <th>pickup_longitude</th>\n",
       "      <th>pickup_latitude</th>\n",
       "      <th>rate_code</th>\n",
       "      <th>store_and_fwd_flag</th>\n",
       "      <th>dropoff_longitude</th>\n",
       "      <th>dropoff_latitude</th>\n",
       "      <th>payment_type</th>\n",
       "      <th>fare_amount</th>\n",
       "      <th>surcharge</th>\n",
       "      <th>mta_tax</th>\n",
       "      <th>tip_amount</th>\n",
       "      <th>tolls_amount</th>\n",
       "      <th>total_amount</th>\n",
       "      <th>Location_ID</th>\n",
       "    </tr>\n",
       "  </thead>\n",
       "  <tbody>\n",
       "    <tr>\n",
       "      <th>0</th>\n",
       "      <td>0</td>\n",
       "      <td>CMT</td>\n",
       "      <td>2011-01-29 02:38:35</td>\n",
       "      <td>2011-01-29 02:47:07</td>\n",
       "      <td>1</td>\n",
       "      <td>1.2</td>\n",
       "      <td>-74.005254</td>\n",
       "      <td>40.729084</td>\n",
       "      <td>1</td>\n",
       "      <td>N</td>\n",
       "      <td>-73.988697</td>\n",
       "      <td>40.727127</td>\n",
       "      <td>CSH</td>\n",
       "      <td>6.1</td>\n",
       "      <td>0.5</td>\n",
       "      <td>0.5</td>\n",
       "      <td>0</td>\n",
       "      <td>0</td>\n",
       "      <td>7.1</td>\n",
       "      <td>125</td>\n",
       "    </tr>\n",
       "    <tr>\n",
       "      <th>1</th>\n",
       "      <td>1</td>\n",
       "      <td>CMT</td>\n",
       "      <td>2011-01-28 10:38:19</td>\n",
       "      <td>2011-01-28 10:42:18</td>\n",
       "      <td>1</td>\n",
       "      <td>0.4</td>\n",
       "      <td>-73.968585</td>\n",
       "      <td>40.759171</td>\n",
       "      <td>1</td>\n",
       "      <td>N</td>\n",
       "      <td>-73.964336</td>\n",
       "      <td>40.764665</td>\n",
       "      <td>CSH</td>\n",
       "      <td>4.1</td>\n",
       "      <td>0.0</td>\n",
       "      <td>0.5</td>\n",
       "      <td>0</td>\n",
       "      <td>0</td>\n",
       "      <td>4.6</td>\n",
       "      <td>162</td>\n",
       "    </tr>\n",
       "    <tr>\n",
       "      <th>2</th>\n",
       "      <td>2</td>\n",
       "      <td>CMT</td>\n",
       "      <td>2011-01-28 23:49:58</td>\n",
       "      <td>2011-01-28 23:57:44</td>\n",
       "      <td>3</td>\n",
       "      <td>1.2</td>\n",
       "      <td>-73.980710</td>\n",
       "      <td>40.742390</td>\n",
       "      <td>1</td>\n",
       "      <td>N</td>\n",
       "      <td>-73.987028</td>\n",
       "      <td>40.729532</td>\n",
       "      <td>CSH</td>\n",
       "      <td>6.1</td>\n",
       "      <td>0.5</td>\n",
       "      <td>0.5</td>\n",
       "      <td>0</td>\n",
       "      <td>0</td>\n",
       "      <td>7.1</td>\n",
       "      <td>137</td>\n",
       "    </tr>\n",
       "    <tr>\n",
       "      <th>3</th>\n",
       "      <td>3</td>\n",
       "      <td>CMT</td>\n",
       "      <td>2011-01-28 23:52:09</td>\n",
       "      <td>2011-01-28 23:59:21</td>\n",
       "      <td>3</td>\n",
       "      <td>0.8</td>\n",
       "      <td>-73.993773</td>\n",
       "      <td>40.747329</td>\n",
       "      <td>1</td>\n",
       "      <td>N</td>\n",
       "      <td>-73.991378</td>\n",
       "      <td>40.750050</td>\n",
       "      <td>CSH</td>\n",
       "      <td>5.3</td>\n",
       "      <td>0.5</td>\n",
       "      <td>0.5</td>\n",
       "      <td>0</td>\n",
       "      <td>0</td>\n",
       "      <td>6.3</td>\n",
       "      <td>186</td>\n",
       "    </tr>\n",
       "    <tr>\n",
       "      <th>4</th>\n",
       "      <td>4</td>\n",
       "      <td>CMT</td>\n",
       "      <td>2011-01-28 10:34:39</td>\n",
       "      <td>2011-01-28 11:25:50</td>\n",
       "      <td>1</td>\n",
       "      <td>5.3</td>\n",
       "      <td>-73.991475</td>\n",
       "      <td>40.749936</td>\n",
       "      <td>1</td>\n",
       "      <td>N</td>\n",
       "      <td>-73.950237</td>\n",
       "      <td>40.775626</td>\n",
       "      <td>CSH</td>\n",
       "      <td>25.3</td>\n",
       "      <td>0.0</td>\n",
       "      <td>0.5</td>\n",
       "      <td>0</td>\n",
       "      <td>0</td>\n",
       "      <td>25.8</td>\n",
       "      <td>186</td>\n",
       "    </tr>\n",
       "  </tbody>\n",
       "</table>\n",
       "</div>"
      ],
      "text/plain": [
       "   Unnamed: 0 vendor_id      pickup_datetime     dropoff_datetime  \\\n",
       "0           0       CMT  2011-01-29 02:38:35  2011-01-29 02:47:07   \n",
       "1           1       CMT  2011-01-28 10:38:19  2011-01-28 10:42:18   \n",
       "2           2       CMT  2011-01-28 23:49:58  2011-01-28 23:57:44   \n",
       "3           3       CMT  2011-01-28 23:52:09  2011-01-28 23:59:21   \n",
       "4           4       CMT  2011-01-28 10:34:39  2011-01-28 11:25:50   \n",
       "\n",
       "   passenger_count  trip_distance  pickup_longitude  pickup_latitude  \\\n",
       "0                1            1.2        -74.005254        40.729084   \n",
       "1                1            0.4        -73.968585        40.759171   \n",
       "2                3            1.2        -73.980710        40.742390   \n",
       "3                3            0.8        -73.993773        40.747329   \n",
       "4                1            5.3        -73.991475        40.749936   \n",
       "\n",
       "   rate_code store_and_fwd_flag  dropoff_longitude  dropoff_latitude  \\\n",
       "0          1                  N         -73.988697         40.727127   \n",
       "1          1                  N         -73.964336         40.764665   \n",
       "2          1                  N         -73.987028         40.729532   \n",
       "3          1                  N         -73.991378         40.750050   \n",
       "4          1                  N         -73.950237         40.775626   \n",
       "\n",
       "  payment_type  fare_amount  surcharge  mta_tax  tip_amount  tolls_amount  \\\n",
       "0          CSH          6.1        0.5      0.5           0             0   \n",
       "1          CSH          4.1        0.0      0.5           0             0   \n",
       "2          CSH          6.1        0.5      0.5           0             0   \n",
       "3          CSH          5.3        0.5      0.5           0             0   \n",
       "4          CSH         25.3        0.0      0.5           0             0   \n",
       "\n",
       "   total_amount  Location_ID  \n",
       "0           7.1          125  \n",
       "1           4.6          162  \n",
       "2           7.1          137  \n",
       "3           6.3          186  \n",
       "4          25.8          186  "
      ]
     },
     "execution_count": 4,
     "metadata": {},
     "output_type": "execute_result"
    }
   ],
   "source": [
    "data_2.head()"
   ]
  },
  {
   "cell_type": "code",
   "execution_count": 11,
   "metadata": {
    "collapsed": false
   },
   "outputs": [
    {
     "data": {
      "text/plain": [
       "['Unnamed: 0',\n",
       " 'vendor_name',\n",
       " 'Trip_Pickup_DateTime',\n",
       " 'Trip_Dropoff_DateTime',\n",
       " 'Passenger_Count',\n",
       " 'Trip_Distance',\n",
       " 'Start_Lon',\n",
       " 'Start_Lat',\n",
       " 'Rate_Code',\n",
       " 'store_and_forward',\n",
       " 'End_Lon',\n",
       " 'End_Lat',\n",
       " 'Payment_Type',\n",
       " 'Fare_Amt',\n",
       " 'surcharge',\n",
       " 'mta_tax',\n",
       " 'Tip_Amt',\n",
       " 'Tolls_Amt',\n",
       " 'Total_Amt',\n",
       " 'Location_ID']"
      ]
     },
     "execution_count": 11,
     "metadata": {},
     "output_type": "execute_result"
    }
   ],
   "source": [
    "data_1.columns.tolist()"
   ]
  },
  {
   "cell_type": "code",
   "execution_count": 12,
   "metadata": {
    "collapsed": false
   },
   "outputs": [
    {
     "data": {
      "text/plain": [
       "['Unnamed: 0',\n",
       " 'vendor_id',\n",
       " 'pickup_datetime',\n",
       " 'dropoff_datetime',\n",
       " 'passenger_count',\n",
       " 'trip_distance',\n",
       " 'pickup_longitude',\n",
       " 'pickup_latitude',\n",
       " 'rate_code',\n",
       " 'store_and_fwd_flag',\n",
       " 'dropoff_longitude',\n",
       " 'dropoff_latitude',\n",
       " 'payment_type',\n",
       " 'fare_amount',\n",
       " 'surcharge',\n",
       " 'mta_tax',\n",
       " 'tip_amount',\n",
       " 'tolls_amount',\n",
       " 'total_amount',\n",
       " 'Location_ID']"
      ]
     },
     "execution_count": 12,
     "metadata": {},
     "output_type": "execute_result"
    }
   ],
   "source": [
    "data_2.columns.tolist()"
   ]
  },
  {
   "cell_type": "code",
   "execution_count": 16,
   "metadata": {
    "collapsed": false
   },
   "outputs": [],
   "source": [
    "pick_up_time = data_1.iloc[:, 2][0]"
   ]
  },
  {
   "cell_type": "code",
   "execution_count": 24,
   "metadata": {
    "collapsed": false
   },
   "outputs": [],
   "source": [
    "pick_up_time_2 = pick_up_time[:-6].replace('-', ' ')"
   ]
  },
  {
   "cell_type": "code",
   "execution_count": 26,
   "metadata": {
    "collapsed": false
   },
   "outputs": [
    {
     "data": {
      "text/plain": [
       "['2009', '01', '04', '02']"
      ]
     },
     "execution_count": 26,
     "metadata": {},
     "output_type": "execute_result"
    }
   ],
   "source": [
    "pick_up_time_2.split(' ')"
   ]
  },
  {
   "cell_type": "code",
   "execution_count": 27,
   "metadata": {
    "collapsed": true
   },
   "outputs": [],
   "source": [
    "location = data_1.iloc[:, -1][0]"
   ]
  },
  {
   "cell_type": "code",
   "execution_count": 28,
   "metadata": {
    "collapsed": false
   },
   "outputs": [
    {
     "data": {
      "text/plain": [
       "144"
      ]
     },
     "execution_count": 28,
     "metadata": {},
     "output_type": "execute_result"
    }
   ],
   "source": [
    "location"
   ]
  },
  {
   "cell_type": "code",
   "execution_count": 33,
   "metadata": {
    "collapsed": true
   },
   "outputs": [],
   "source": [
    "def get_key(line):\n",
    "\tpickup_location = str(line[-1])\n",
    "\tpickup_time = line[2]\n",
    "\tif len(pickup_time)>6:\n",
    "\t\tpickup_time = pickup_time[:-6].replace('-', ' ')\n",
    "\t\tpickup_time = pickup_time.split(' ')\n",
    "\t\tpickup_time = ','.join(pickup_time)\n",
    "\tkey = ','.join([pickup_location, pickup_time])\n",
    "\treturn key"
   ]
  },
  {
   "cell_type": "code",
   "execution_count": 63,
   "metadata": {
    "collapsed": true
   },
   "outputs": [],
   "source": [
    "def RepresentsFloat(s):\n",
    "    try: \n",
    "        float(s)\n",
    "        return True\n",
    "    except ValueError:\n",
    "        return False\n",
    "    \n",
    "def get_value(line):\n",
    "\t### get passenger count \n",
    "\tpassenger_count = line[4]\n",
    "\tif not RepresentsFloat(passenger_count):\n",
    "\t\tpassenger_count = 0.\n",
    "\n",
    "\t### get trip distance\n",
    "\ttrip_distance = line[5]\n",
    "\tif not RepresentsFloat(trip_distance):\n",
    "\t\ttrip_distance = 0.\n",
    "\n",
    "\t### get fare amount\n",
    "\tfare_amount = line[13]\n",
    "\tif not RepresentsFloat(fare_amount):\n",
    "\t\tfare_amount = 0.\n",
    "\n",
    "\t### get surcharge\n",
    "\tsurcharge = line[14]\n",
    "\tif not RepresentsFloat(surcharge):\n",
    "\t\tsurcharge = 0.\n",
    "\n",
    "\t### get tip amount\n",
    "\ttip_amount = line[16]\n",
    "\tif not RepresentsFloat(tip_amount):\n",
    "\t\ttip_amount = 0.\n",
    "\n",
    "\t### get tolls amount\n",
    "\ttolls_amount = line[17]\n",
    "\tif not RepresentsFloat(tolls_amount):\n",
    "\t\ttolls_amount = 0.\n",
    "\n",
    "\t### get total amount\n",
    "\ttotal_amount = line[18]\n",
    "\tif not RepresentsFloat(total_amount):\n",
    "\t\ttotal_amount = 0.\n",
    "\n",
    "\treturn [passenger_count, trip_distance, fare_amount, surcharge, tip_amount, tolls_amount, total_amount]"
   ]
  },
  {
   "cell_type": "code",
   "execution_count": 58,
   "metadata": {
    "collapsed": false
   },
   "outputs": [
    {
     "ename": "TypeError",
     "evalue": "type() takes 1 or 3 arguments",
     "output_type": "error",
     "traceback": [
      "\u001b[1;31m---------------------------------------------------------------------------\u001b[0m",
      "\u001b[1;31mTypeError\u001b[0m                                 Traceback (most recent call last)",
      "\u001b[1;32m<ipython-input-58-e1207ad31750>\u001b[0m in \u001b[0;36m<module>\u001b[1;34m()\u001b[0m\n\u001b[1;32m----> 1\u001b[1;33m \u001b[0mtype\u001b[0m\u001b[1;33m(\u001b[0m\u001b[0mpass_c\u001b[0m \u001b[1;33m=\u001b[0m \u001b[0mdata_2\u001b[0m\u001b[1;33m[\u001b[0m\u001b[1;34m'trip_distance'\u001b[0m\u001b[1;33m]\u001b[0m\u001b[1;33m[\u001b[0m\u001b[1;36m1\u001b[0m\u001b[1;33m]\u001b[0m\u001b[1;33m)\u001b[0m\u001b[1;33m\u001b[0m\u001b[0m\n\u001b[0m",
      "\u001b[1;31mTypeError\u001b[0m: type() takes 1 or 3 arguments"
     ]
    }
   ],
   "source": [
    "type(pass_c = data_2['trip_distance'][1])"
   ]
  },
  {
   "cell_type": "code",
   "execution_count": 79,
   "metadata": {
    "collapsed": false
   },
   "outputs": [
    {
     "data": {
      "text/plain": [
       "'142,2011,01,25,15'"
      ]
     },
     "execution_count": 79,
     "metadata": {},
     "output_type": "execute_result"
    }
   ],
   "source": [
    "get_key(line)"
   ]
  },
  {
   "cell_type": "code",
   "execution_count": 82,
   "metadata": {
    "collapsed": false
   },
   "outputs": [],
   "source": [
    "a = get_value(line)"
   ]
  },
  {
   "cell_type": "code",
   "execution_count": 65,
   "metadata": {
    "collapsed": true
   },
   "outputs": [],
   "source": [
    "line = data_2.loc[1000, :].tolist()"
   ]
  },
  {
   "cell_type": "code",
   "execution_count": 69,
   "metadata": {
    "collapsed": false
   },
   "outputs": [
    {
     "data": {
      "text/plain": [
       "Unnamed: 0                           1000\n",
       "vendor_id                             CMT\n",
       "pickup_datetime       2011-01-25 15:44:47\n",
       "dropoff_datetime      2011-01-25 15:53:52\n",
       "passenger_count                         1\n",
       "trip_distance                         1.6\n",
       "pickup_longitude                 -73.9842\n",
       "pickup_latitude                   40.7697\n",
       "rate_code                               1\n",
       "store_and_fwd_flag                      N\n",
       "dropoff_longitude                -74.0028\n",
       "dropoff_latitude                  40.7606\n",
       "payment_type                          CRD\n",
       "fare_amount                           6.9\n",
       "surcharge                               0\n",
       "mta_tax                               0.5\n",
       "tip_amount                           1.48\n",
       "tolls_amount                            0\n",
       "total_amount                         8.88\n",
       "Location_ID                           142\n",
       "Name: 1000, dtype: object"
      ]
     },
     "execution_count": 69,
     "metadata": {},
     "output_type": "execute_result"
    }
   ],
   "source": [
    "data_2.loc[1000]"
   ]
  },
  {
   "cell_type": "code",
   "execution_count": 75,
   "metadata": {
    "collapsed": false
   },
   "outputs": [
    {
     "data": {
      "text/plain": [
       "numpy.int64"
      ]
     },
     "execution_count": 75,
     "metadata": {},
     "output_type": "execute_result"
    }
   ],
   "source": [
    "type(data_1.iloc[0, 0])"
   ]
  },
  {
   "cell_type": "code",
   "execution_count": 94,
   "metadata": {
    "collapsed": true
   },
   "outputs": [],
   "source": [
    "value = get_value(line)\n",
    "value_string = '\\t'\n",
    "for v in value:\n",
    "\ta = '%.2f,'%(v)\n",
    "\tvalue_string = value_string+a\n",
    "\n",
    "value_string = value_string[:-1]"
   ]
  },
  {
   "cell_type": "code",
   "execution_count": 95,
   "metadata": {
    "collapsed": false
   },
   "outputs": [
    {
     "data": {
      "text/plain": [
       "'\\t1.00,1.60,6.90,0.00,1.48,0.00,8.88'"
      ]
     },
     "execution_count": 95,
     "metadata": {},
     "output_type": "execute_result"
    }
   ],
   "source": [
    "value_string"
   ]
  },
  {
   "cell_type": "code",
   "execution_count": 83,
   "metadata": {
    "collapsed": false
   },
   "outputs": [
    {
     "data": {
      "text/plain": [
       "[1, 1.6000000000000001, 6.9000000000000004, 0.0, 1.48, 0.0, 8.8800000000000008]"
      ]
     },
     "execution_count": 83,
     "metadata": {},
     "output_type": "execute_result"
    }
   ],
   "source": [
    "a"
   ]
  }
 ],
 "metadata": {
  "kernelspec": {
   "display_name": "Python 2",
   "language": "python",
   "name": "python2"
  },
  "language_info": {
   "codemirror_mode": {
    "name": "ipython",
    "version": 2
   },
   "file_extension": ".py",
   "mimetype": "text/x-python",
   "name": "python",
   "nbconvert_exporter": "python",
   "pygments_lexer": "ipython2",
   "version": "2.7.11"
  }
 },
 "nbformat": 4,
 "nbformat_minor": 0
}
