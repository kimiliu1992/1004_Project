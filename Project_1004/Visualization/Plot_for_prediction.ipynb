{
 "cells": [
  {
   "cell_type": "code",
   "execution_count": 53,
   "metadata": {
    "collapsed": true
   },
   "outputs": [],
   "source": [
    "import pandas as pd\n",
    "import numpy as np\n",
    "import matplotlib.pyplot as plt\n",
    "import scipy.optimize as optimization\n",
    "import plotly.plotly as py\n",
    "import plotly.graph_objs as go\n",
    "import plotly.tools as tls\n",
    "from collections import Counter"
   ]
  },
  {
   "cell_type": "code",
   "execution_count": 8,
   "metadata": {
    "collapsed": true
   },
   "outputs": [],
   "source": [
    "Prediction = pd.read_csv('Prediction.csv')\n",
    "data_taxi = pd.read_csv('Taxi_Data.csv')\n",
    "data_uber = pd.read_csv('Uber-2015.csv')\n",
    "data_taxi = data_taxi.drop(['Unnamed: 0'], axis = 1)\n",
    "data_uber = data_uber.drop(['Unnamed: 0'], axis = 1)"
   ]
  },
  {
   "cell_type": "code",
   "execution_count": 35,
   "metadata": {
    "collapsed": true
   },
   "outputs": [],
   "source": [
    "Prediction_2014 = pd.read_csv('Prediction_2014.csv')"
   ]
  },
  {
   "cell_type": "code",
   "execution_count": 36,
   "metadata": {
    "collapsed": false
   },
   "outputs": [
    {
     "data": {
      "text/html": [
       "<div>\n",
       "<table border=\"1\" class=\"dataframe\">\n",
       "  <thead>\n",
       "    <tr style=\"text-align: right;\">\n",
       "      <th></th>\n",
       "      <th>Location_ID</th>\n",
       "      <th>Uber_Popularity</th>\n",
       "      <th>Uber_a</th>\n",
       "      <th>Uber_b</th>\n",
       "      <th>Uber_c</th>\n",
       "      <th>Uber_d</th>\n",
       "      <th>Taxi_Popularity</th>\n",
       "      <th>taxi_a</th>\n",
       "      <th>taxi_b</th>\n",
       "      <th>taxi_c</th>\n",
       "      <th>taxi_d</th>\n",
       "      <th>Prediction</th>\n",
       "    </tr>\n",
       "  </thead>\n",
       "  <tbody>\n",
       "    <tr>\n",
       "      <th>0</th>\n",
       "      <td>1</td>\n",
       "      <td>Uber_not_popuplar</td>\n",
       "      <td>0.000000</td>\n",
       "      <td>0.000000</td>\n",
       "      <td>0.000000</td>\n",
       "      <td>0.000000</td>\n",
       "      <td>popular</td>\n",
       "      <td>1842.319261</td>\n",
       "      <td>3.909253</td>\n",
       "      <td>263.941479</td>\n",
       "      <td>-104.217617</td>\n",
       "      <td>Taxi_Dominates</td>\n",
       "    </tr>\n",
       "    <tr>\n",
       "      <th>1</th>\n",
       "      <td>2</td>\n",
       "      <td>Uber_not_popuplar</td>\n",
       "      <td>0.000000</td>\n",
       "      <td>0.000000</td>\n",
       "      <td>0.000000</td>\n",
       "      <td>0.000000</td>\n",
       "      <td>Taxi_not_popuplar</td>\n",
       "      <td>0.000000</td>\n",
       "      <td>0.000000</td>\n",
       "      <td>0.000000</td>\n",
       "      <td>0.000000</td>\n",
       "      <td>Not_Popular</td>\n",
       "    </tr>\n",
       "    <tr>\n",
       "      <th>2</th>\n",
       "      <td>3</td>\n",
       "      <td>Uber_not_popuplar</td>\n",
       "      <td>0.000000</td>\n",
       "      <td>0.000000</td>\n",
       "      <td>0.000000</td>\n",
       "      <td>0.000000</td>\n",
       "      <td>Taxi_not_popuplar</td>\n",
       "      <td>0.000000</td>\n",
       "      <td>0.000000</td>\n",
       "      <td>0.000000</td>\n",
       "      <td>0.000000</td>\n",
       "      <td>Not_Popular</td>\n",
       "    </tr>\n",
       "    <tr>\n",
       "      <th>3</th>\n",
       "      <td>4</td>\n",
       "      <td>popular</td>\n",
       "      <td>62.561609</td>\n",
       "      <td>0.580206</td>\n",
       "      <td>10.892951</td>\n",
       "      <td>-20.938528</td>\n",
       "      <td>popular</td>\n",
       "      <td>1176.796146</td>\n",
       "      <td>1.664393</td>\n",
       "      <td>-240.548271</td>\n",
       "      <td>-529.830022</td>\n",
       "      <td>Taxi_Safe</td>\n",
       "    </tr>\n",
       "    <tr>\n",
       "      <th>4</th>\n",
       "      <td>5</td>\n",
       "      <td>Uber_not_popuplar</td>\n",
       "      <td>0.000000</td>\n",
       "      <td>0.000000</td>\n",
       "      <td>0.000000</td>\n",
       "      <td>0.000000</td>\n",
       "      <td>Taxi_not_popuplar</td>\n",
       "      <td>0.000000</td>\n",
       "      <td>0.000000</td>\n",
       "      <td>0.000000</td>\n",
       "      <td>0.000000</td>\n",
       "      <td>Not_Popular</td>\n",
       "    </tr>\n",
       "  </tbody>\n",
       "</table>\n",
       "</div>"
      ],
      "text/plain": [
       "   Location_ID    Uber_Popularity     Uber_a    Uber_b     Uber_c     Uber_d  \\\n",
       "0            1  Uber_not_popuplar   0.000000  0.000000   0.000000   0.000000   \n",
       "1            2  Uber_not_popuplar   0.000000  0.000000   0.000000   0.000000   \n",
       "2            3  Uber_not_popuplar   0.000000  0.000000   0.000000   0.000000   \n",
       "3            4            popular  62.561609  0.580206  10.892951 -20.938528   \n",
       "4            5  Uber_not_popuplar   0.000000  0.000000   0.000000   0.000000   \n",
       "\n",
       "     Taxi_Popularity       taxi_a    taxi_b      taxi_c      taxi_d  \\\n",
       "0            popular  1842.319261  3.909253  263.941479 -104.217617   \n",
       "1  Taxi_not_popuplar     0.000000  0.000000    0.000000    0.000000   \n",
       "2  Taxi_not_popuplar     0.000000  0.000000    0.000000    0.000000   \n",
       "3            popular  1176.796146  1.664393 -240.548271 -529.830022   \n",
       "4  Taxi_not_popuplar     0.000000  0.000000    0.000000    0.000000   \n",
       "\n",
       "       Prediction  \n",
       "0  Taxi_Dominates  \n",
       "1     Not_Popular  \n",
       "2     Not_Popular  \n",
       "3       Taxi_Safe  \n",
       "4     Not_Popular  "
      ]
     },
     "execution_count": 36,
     "metadata": {},
     "output_type": "execute_result"
    }
   ],
   "source": [
    "Prediction_2014.head()"
   ]
  },
  {
   "cell_type": "code",
   "execution_count": null,
   "metadata": {
    "collapsed": true
   },
   "outputs": [],
   "source": []
  },
  {
   "cell_type": "code",
   "execution_count": null,
   "metadata": {
    "collapsed": true
   },
   "outputs": [],
   "source": []
  },
  {
   "cell_type": "code",
   "execution_count": null,
   "metadata": {
    "collapsed": true
   },
   "outputs": [],
   "source": []
  },
  {
   "cell_type": "code",
   "execution_count": 18,
   "metadata": {
    "collapsed": false
   },
   "outputs": [
    {
     "data": {
      "text/html": [
       "<div>\n",
       "<table border=\"1\" class=\"dataframe\">\n",
       "  <thead>\n",
       "    <tr style=\"text-align: right;\">\n",
       "      <th></th>\n",
       "      <th>Location_ID</th>\n",
       "      <th>Uber_Popularity</th>\n",
       "      <th>Uber_a</th>\n",
       "      <th>Uber_b</th>\n",
       "      <th>Uber_c</th>\n",
       "      <th>Uber_d</th>\n",
       "      <th>Taxi_Popularity</th>\n",
       "      <th>taxi_a</th>\n",
       "      <th>taxi_b</th>\n",
       "      <th>taxi_c</th>\n",
       "      <th>taxi_d</th>\n",
       "      <th>Prediction</th>\n",
       "    </tr>\n",
       "  </thead>\n",
       "  <tbody>\n",
       "    <tr>\n",
       "      <th>0</th>\n",
       "      <td>1</td>\n",
       "      <td>Uber_not_popuplar</td>\n",
       "      <td>0.000000</td>\n",
       "      <td>0.000000</td>\n",
       "      <td>0.000000</td>\n",
       "      <td>0.000000</td>\n",
       "      <td>popular</td>\n",
       "      <td>1701.463999</td>\n",
       "      <td>-0.103569</td>\n",
       "      <td>16.408720</td>\n",
       "      <td>236.862157</td>\n",
       "      <td>Taxi_Dominates</td>\n",
       "    </tr>\n",
       "    <tr>\n",
       "      <th>1</th>\n",
       "      <td>2</td>\n",
       "      <td>Uber_not_popuplar</td>\n",
       "      <td>0.000000</td>\n",
       "      <td>0.000000</td>\n",
       "      <td>0.000000</td>\n",
       "      <td>0.000000</td>\n",
       "      <td>Taxi_not_popuplar</td>\n",
       "      <td>0.000000</td>\n",
       "      <td>0.000000</td>\n",
       "      <td>0.000000</td>\n",
       "      <td>0.000000</td>\n",
       "      <td>Not_Popular</td>\n",
       "    </tr>\n",
       "    <tr>\n",
       "      <th>2</th>\n",
       "      <td>3</td>\n",
       "      <td>popular</td>\n",
       "      <td>10.167656</td>\n",
       "      <td>0.112903</td>\n",
       "      <td>4.818614</td>\n",
       "      <td>-1.116316</td>\n",
       "      <td>Taxi_not_popuplar</td>\n",
       "      <td>0.000000</td>\n",
       "      <td>0.000000</td>\n",
       "      <td>0.000000</td>\n",
       "      <td>0.000000</td>\n",
       "      <td>Uber_Dominates</td>\n",
       "    </tr>\n",
       "    <tr>\n",
       "      <th>3</th>\n",
       "      <td>4</td>\n",
       "      <td>popular</td>\n",
       "      <td>395.943848</td>\n",
       "      <td>1.077022</td>\n",
       "      <td>141.060494</td>\n",
       "      <td>2.900637</td>\n",
       "      <td>popular</td>\n",
       "      <td>1106.532458</td>\n",
       "      <td>-0.670889</td>\n",
       "      <td>478.565018</td>\n",
       "      <td>-122.301229</td>\n",
       "      <td>225.5358995625786</td>\n",
       "    </tr>\n",
       "    <tr>\n",
       "      <th>4</th>\n",
       "      <td>5</td>\n",
       "      <td>Uber_not_popuplar</td>\n",
       "      <td>0.000000</td>\n",
       "      <td>0.000000</td>\n",
       "      <td>0.000000</td>\n",
       "      <td>0.000000</td>\n",
       "      <td>Taxi_not_popuplar</td>\n",
       "      <td>0.000000</td>\n",
       "      <td>0.000000</td>\n",
       "      <td>0.000000</td>\n",
       "      <td>0.000000</td>\n",
       "      <td>Not_Popular</td>\n",
       "    </tr>\n",
       "  </tbody>\n",
       "</table>\n",
       "</div>"
      ],
      "text/plain": [
       "   Location_ID    Uber_Popularity      Uber_a    Uber_b      Uber_c    Uber_d  \\\n",
       "0            1  Uber_not_popuplar    0.000000  0.000000    0.000000  0.000000   \n",
       "1            2  Uber_not_popuplar    0.000000  0.000000    0.000000  0.000000   \n",
       "2            3            popular   10.167656  0.112903    4.818614 -1.116316   \n",
       "3            4            popular  395.943848  1.077022  141.060494  2.900637   \n",
       "4            5  Uber_not_popuplar    0.000000  0.000000    0.000000  0.000000   \n",
       "\n",
       "     Taxi_Popularity       taxi_a    taxi_b      taxi_c      taxi_d  \\\n",
       "0            popular  1701.463999 -0.103569   16.408720  236.862157   \n",
       "1  Taxi_not_popuplar     0.000000  0.000000    0.000000    0.000000   \n",
       "2  Taxi_not_popuplar     0.000000  0.000000    0.000000    0.000000   \n",
       "3            popular  1106.532458 -0.670889  478.565018 -122.301229   \n",
       "4  Taxi_not_popuplar     0.000000  0.000000    0.000000    0.000000   \n",
       "\n",
       "          Prediction  \n",
       "0     Taxi_Dominates  \n",
       "1        Not_Popular  \n",
       "2     Uber_Dominates  \n",
       "3  225.5358995625786  \n",
       "4        Not_Popular  "
      ]
     },
     "execution_count": 18,
     "metadata": {},
     "output_type": "execute_result"
    }
   ],
   "source": [
    "Prediction.head()"
   ]
  },
  {
   "cell_type": "code",
   "execution_count": 34,
   "metadata": {
    "collapsed": false
   },
   "outputs": [
    {
     "data": {
      "text/html": [
       "<iframe id=\"igraph\" scrolling=\"no\" style=\"border:none;\" seamless=\"seamless\" src=\"https://plot.ly/~kimiliu1992/7.embed\" height=\"525px\" width=\"100%\"></iframe>"
      ],
      "text/plain": [
       "<plotly.tools.PlotlyDisplay object>"
      ]
     },
     "execution_count": 34,
     "metadata": {},
     "output_type": "execute_result"
    }
   ],
   "source": [
    "## Plot real curv and regrrssion curv for location 4 and 161\n",
    "def curv_func(x, a, b, c, d):\n",
    "    return a + b*x + c*np.sin((2*np.pi/7.)*x) + d*np.cos((2*np.pi/7.)*x)\n",
    "\n",
    "para_taxi = Prediction.loc[3, ['taxi_a', 'taxi_b', 'taxi_c', 'taxi_d']].tolist()\n",
    "para_uber = Prediction.loc[3, ['Uber_a', 'Uber_b', 'Uber_c', 'Uber_d']].tolist()\n",
    "\n",
    "pred_out_taxi = map(lambda x: curv_func(x, para_taxi[0], para_taxi[1], para_taxi[2], para_taxi[3]), range(len(count_value_taxi)))\n",
    "pred_out_uber = map(lambda x: curv_func(x, para_uber[0], para_uber[1], para_uber[2], para_uber[3]), range(len(count_value_uber)))\n",
    "\n",
    "pred_linear_out_taxi = map(lambda x: para_taxi[0]+para_taxi[1]*x, range(len(count_value_taxi)))\n",
    "pred_linear_out_uber = map(lambda x: para_uber[0]+para_uber[1]*x, range(len(count_value_uber)))\n",
    "\n",
    "\n",
    "# Create traces\n",
    "trace_taxi_0 = go.Scatter(\n",
    "    x = range(len(count_value_taxi)),\n",
    "    y = count_value_taxi,\n",
    "    mode = 'markers',\n",
    "    name = 'Real Data Taxi'\n",
    ")\n",
    "\n",
    "trace_taxi_1 = go.Scatter(\n",
    "    x = range(len(count_value_taxi)),\n",
    "    y = pred_out_taxi,\n",
    "    mode = 'lines',\n",
    "    name = 'Regression Taxi'\n",
    ")\n",
    "\n",
    "trace_taxi_2 = go.Scatter(\n",
    "    x = range(len(count_value_taxi)),\n",
    "    y = pred_linear_out_taxi,\n",
    "    name = 'Linear Taxi',\n",
    "    line = dict(dash = 'dash') \n",
    ")\n",
    "\n",
    "trace_uber_0 = go.Scatter(\n",
    "    x = range(len(count_value_uber)),\n",
    "    y = count_value_uber,\n",
    "    mode = 'markers',\n",
    "    name = 'Real Data Uber'\n",
    ")\n",
    "\n",
    "trace_uber_1 = go.Scatter(\n",
    "    x = range(len(count_value_uber)),\n",
    "    y = pred_out_uber,\n",
    "    mode = 'lines',\n",
    "    name = 'Regression Uber'\n",
    ")\n",
    "\n",
    "trace_uber_2 = go.Scatter(\n",
    "    x = range(len(count_value_uber)),\n",
    "    y = pred_linear_out_uber,\n",
    "    name = 'Linear Uber',\n",
    "    line = dict(dash = 'dash') \n",
    ")\n",
    "\n",
    "data = [trace_taxi_0, trace_taxi_1, trace_taxi_2, trace_uber_0, trace_uber_1, trace_uber_2]\n",
    "py.iplot(data, filename='Location 4')"
   ]
  },
  {
   "cell_type": "code",
   "execution_count": null,
   "metadata": {
    "collapsed": true
   },
   "outputs": [],
   "source": []
  },
  {
   "cell_type": "code",
   "execution_count": null,
   "metadata": {
    "collapsed": true
   },
   "outputs": [],
   "source": []
  },
  {
   "cell_type": "code",
   "execution_count": null,
   "metadata": {
    "collapsed": true
   },
   "outputs": [],
   "source": []
  },
  {
   "cell_type": "code",
   "execution_count": null,
   "metadata": {
    "collapsed": true
   },
   "outputs": [],
   "source": []
  },
  {
   "cell_type": "code",
   "execution_count": null,
   "metadata": {
    "collapsed": true
   },
   "outputs": [],
   "source": []
  },
  {
   "cell_type": "code",
   "execution_count": null,
   "metadata": {
    "collapsed": true
   },
   "outputs": [],
   "source": []
  },
  {
   "cell_type": "code",
   "execution_count": null,
   "metadata": {
    "collapsed": true
   },
   "outputs": [],
   "source": []
  },
  {
   "cell_type": "code",
   "execution_count": 40,
   "metadata": {
    "collapsed": false
   },
   "outputs": [
    {
     "data": {
      "text/plain": [
       "Prediction\n",
       "Not_Popular       40\n",
       "Taxi_Dominates    10\n",
       "Taxi_Safe         12\n",
       "Uber_Dominates    86\n",
       "Name: Location_ID, dtype: int64"
      ]
     },
     "execution_count": 40,
     "metadata": {},
     "output_type": "execute_result"
    }
   ],
   "source": [
    "Prediction.groupby(['Prediction'])['Location_ID'].count().loc[['Not_Popular', 'Taxi_Dominates', 'Taxi_Safe', 'Uber_Dominates']]"
   ]
  },
  {
   "cell_type": "code",
   "execution_count": 41,
   "metadata": {
    "collapsed": false
   },
   "outputs": [
    {
     "data": {
      "text/plain": [
       "Prediction\n",
       "Not_Popular       116\n",
       "Taxi_Dominates     36\n",
       "Taxi_Safe          54\n",
       "Uber_Dominates      7\n",
       "Name: Location_ID, dtype: int64"
      ]
     },
     "execution_count": 41,
     "metadata": {},
     "output_type": "execute_result"
    }
   ],
   "source": [
    "Prediction_2014.groupby(['Prediction'])['Location_ID'].count().loc[['Not_Popular', 'Taxi_Dominates', 'Taxi_Safe', 'Uber_Dominates']]"
   ]
  },
  {
   "cell_type": "code",
   "execution_count": null,
   "metadata": {
    "collapsed": true
   },
   "outputs": [],
   "source": []
  },
  {
   "cell_type": "code",
   "execution_count": 116,
   "metadata": {
    "collapsed": false
   },
   "outputs": [],
   "source": [
    "Classification_2015 = np.zeros((len(Prediction)), dtype=object)\n",
    "for i in range(len(Prediction)):\n",
    "    if Prediction.loc[i, 'Prediction'] == 'Not_Popular':\n",
    "        Classification_2015[i] = 'Low Trips'\n",
    "    elif Prediction.loc[i, 'Prediction'] == 'Taxi_Dominates' or Prediction.loc[i, 'Prediction'] == 'Taxi_Safe':\n",
    "        Classification_2015[i] = 'Taxi Dominates'\n",
    "    elif Prediction.loc[i, 'Prediction'] == 'Uber_Dominates':\n",
    "        Classification_2015[i] = 'Uber Dominates'\n",
    "    elif Prediction.loc[i, 'Prediction'] < 0:\n",
    "        Classification_2015[i] = 'Uber Dominates'\n",
    "    else:\n",
    "        Classification_2015[i] = 'Expected Uber Dominates'"
   ]
  },
  {
   "cell_type": "code",
   "execution_count": 117,
   "metadata": {
    "collapsed": true
   },
   "outputs": [],
   "source": [
    "Classification_2014 = np.zeros((len(Prediction_2014)), dtype=object)\n",
    "for i in range(len(Prediction_2014)):\n",
    "    if Prediction_2014.loc[i, 'Prediction'] == 'Not_Popular':\n",
    "        Classification_2014[i] = 'Low Trips'\n",
    "    elif Prediction_2014.loc[i, 'Prediction'] == 'Taxi_Dominates' or Prediction_2014.loc[i, 'Prediction'] == 'Taxi_Safe':\n",
    "        Classification_2014[i] = 'Taxi Dominates'\n",
    "    elif Prediction_2014.loc[i, 'Prediction'] == 'Uber_Dominates':\n",
    "        Classification_2014[i] = 'Uber Dominates'\n",
    "    elif Prediction_2014.loc[i, 'Prediction'] < 0:\n",
    "        Classification_2014[i] = 'Uber Dominates'\n",
    "    else:\n",
    "        Classification_2014[i] = 'Expected Uber Dominates'"
   ]
  },
  {
   "cell_type": "code",
   "execution_count": 118,
   "metadata": {
    "collapsed": false
   },
   "outputs": [],
   "source": [
    "class_2015 = Counter(Classification_2015)"
   ]
  },
  {
   "cell_type": "code",
   "execution_count": 119,
   "metadata": {
    "collapsed": false
   },
   "outputs": [],
   "source": [
    "class_2014 = Counter(Classification_2014)"
   ]
  },
  {
   "cell_type": "code",
   "execution_count": 120,
   "metadata": {
    "collapsed": false
   },
   "outputs": [
    {
     "data": {
      "text/html": [
       "<iframe id=\"igraph\" scrolling=\"no\" style=\"border:none;\" seamless=\"seamless\" src=\"https://plot.ly/~kimiliu1992/9.embed\" height=\"525px\" width=\"100%\"></iframe>"
      ],
      "text/plain": [
       "<plotly.tools.PlotlyDisplay object>"
      ]
     },
     "execution_count": 120,
     "metadata": {},
     "output_type": "execute_result"
    }
   ],
   "source": [
    "trace_2014 = go.Bar(\n",
    "    x=['Low Trips', 'Taxi Dominates', 'Uber Dominates', 'Expected Uber Dominates'],\n",
    "    y=[class_2014['Low Trips'], class_2014['Taxi Dominates'], class_2014['Uber Dominates'], class_2014['Expected Uber Dominates']],\n",
    "    name='2014'\n",
    ")\n",
    "\n",
    "trace_2015 = go.Bar(\n",
    "    x=['Low Trips', 'Taxi Dominates', 'Uber Dominates', 'Expected Uber Dominates'],\n",
    "    y=[class_2015['Low Trips'], class_2015['Taxi Dominates'], class_2015['Uber Dominates'], class_2015['Expected Uber Dominates']],\n",
    "    name='2015'\n",
    ")\n",
    "\n",
    "data = [trace_2014, trace_2015]\n",
    "layout = go.Layout(\n",
    "    barmode='group'\n",
    ")\n",
    "\n",
    "fig = go.Figure(data=data, layout=layout)\n",
    "py.iplot(fig, filename='Taxi vs Uber')"
   ]
  },
  {
   "cell_type": "code",
   "execution_count": 122,
   "metadata": {
    "collapsed": false
   },
   "outputs": [],
   "source": [
    "Prediction['Prediction_Type'] = Classification_2015"
   ]
  },
  {
   "cell_type": "code",
   "execution_count": 123,
   "metadata": {
    "collapsed": true
   },
   "outputs": [],
   "source": [
    "Prediction_2014['Prediction_Type'] = Classification_2014"
   ]
  },
  {
   "cell_type": "code",
   "execution_count": 126,
   "metadata": {
    "collapsed": false
   },
   "outputs": [],
   "source": [
    "Prediction.to_csv('Prediction_2015.csv')"
   ]
  },
  {
   "cell_type": "code",
   "execution_count": null,
   "metadata": {
    "collapsed": true
   },
   "outputs": [],
   "source": []
  },
  {
   "cell_type": "code",
   "execution_count": null,
   "metadata": {
    "collapsed": true
   },
   "outputs": [],
   "source": []
  },
  {
   "cell_type": "code",
   "execution_count": null,
   "metadata": {
    "collapsed": true
   },
   "outputs": [],
   "source": []
  },
  {
   "cell_type": "code",
   "execution_count": null,
   "metadata": {
    "collapsed": true
   },
   "outputs": [],
   "source": []
  },
  {
   "cell_type": "code",
   "execution_count": null,
   "metadata": {
    "collapsed": true
   },
   "outputs": [],
   "source": []
  },
  {
   "cell_type": "code",
   "execution_count": null,
   "metadata": {
    "collapsed": true
   },
   "outputs": [],
   "source": []
  },
  {
   "cell_type": "code",
   "execution_count": null,
   "metadata": {
    "collapsed": true
   },
   "outputs": [],
   "source": []
  },
  {
   "cell_type": "code",
   "execution_count": 238,
   "metadata": {
    "collapsed": false
   },
   "outputs": [],
   "source": [
    "taxi_2011_06 = data_taxi[(data_taxi['Year'] == 2011) & (data_taxi['Month'] == 6)]"
   ]
  },
  {
   "cell_type": "code",
   "execution_count": 239,
   "metadata": {
    "collapsed": false
   },
   "outputs": [],
   "source": [
    "taxi_2011_06 = taxi_2011_06.groupby(['Location_ID'])['Count'].sum()"
   ]
  },
  {
   "cell_type": "code",
   "execution_count": 240,
   "metadata": {
    "collapsed": false
   },
   "outputs": [],
   "source": [
    "taxi_2015_06 = data_taxi[(data_taxi['Year'] == 2015) & (data_taxi['Month'] == 6)]\n",
    "taxi_2015_06 = taxi_2015_06.groupby(['Location_ID'])['Count'].sum()"
   ]
  },
  {
   "cell_type": "code",
   "execution_count": 296,
   "metadata": {
    "collapsed": false
   },
   "outputs": [],
   "source": [
    "uber_2015_06 = data_uber[data_uber['Month'] == 6]"
   ]
  },
  {
   "cell_type": "code",
   "execution_count": 298,
   "metadata": {
    "collapsed": false
   },
   "outputs": [],
   "source": [
    "uber_2015_06 = uber_2015_06.groupby('locationID')['time'].count()"
   ]
  },
  {
   "cell_type": "code",
   "execution_count": 300,
   "metadata": {
    "collapsed": false
   },
   "outputs": [],
   "source": [
    "uber_2015_06 = uber_2015_06.reset_index(level=0)"
   ]
  },
  {
   "cell_type": "code",
   "execution_count": 304,
   "metadata": {
    "collapsed": false
   },
   "outputs": [],
   "source": [
    "result_1 = uber_2015_06.rename(columns={'locationID': 'Location_ID'})"
   ]
  },
  {
   "cell_type": "code",
   "execution_count": null,
   "metadata": {
    "collapsed": true
   },
   "outputs": [],
   "source": []
  },
  {
   "cell_type": "code",
   "execution_count": 245,
   "metadata": {
    "collapsed": false
   },
   "outputs": [],
   "source": [
    "taxi_2011_06 = taxi_2011_06.reset_index(level=0)\n",
    "taxi_2015_06 = taxi_2015_06.reset_index(level=0)"
   ]
  },
  {
   "cell_type": "code",
   "execution_count": 246,
   "metadata": {
    "collapsed": false
   },
   "outputs": [],
   "source": [
    "taxi_summary = pd.merge(taxi_2011_06, taxi_2015_06, on = ['Location_ID'])"
   ]
  },
  {
   "cell_type": "code",
   "execution_count": 306,
   "metadata": {
    "collapsed": false
   },
   "outputs": [],
   "source": [
    "result = pd.merge(uber_2015_06, taxi_summary, on = ['Location_ID'], how='left')"
   ]
  },
  {
   "cell_type": "code",
   "execution_count": 307,
   "metadata": {
    "collapsed": false
   },
   "outputs": [],
   "source": [
    "result = result.fillna(0)"
   ]
  },
  {
   "cell_type": "code",
   "execution_count": 310,
   "metadata": {
    "collapsed": false
   },
   "outputs": [],
   "source": [
    "result.rename(columns={'time': 'Count', 'Count_x': 'Count_2011', 'Count_y':'Count_2015'}, inplace=True)"
   ]
  },
  {
   "cell_type": "code",
   "execution_count": 312,
   "metadata": {
    "collapsed": false
   },
   "outputs": [],
   "source": [
    "result['sum'] = result['Count']+result['Count_2015']"
   ]
  },
  {
   "cell_type": "code",
   "execution_count": 324,
   "metadata": {
    "collapsed": false
   },
   "outputs": [],
   "source": [
    "result['summary'] = map(int, result['sum']>result['Count_2011']*1.5)"
   ]
  },
  {
   "cell_type": "code",
   "execution_count": 328,
   "metadata": {
    "collapsed": false
   },
   "outputs": [],
   "source": [
    "result['Transformed_ID'] = map(ID_Transform, result.loc[:, 'Location_ID'].tolist())"
   ]
  },
  {
   "cell_type": "code",
   "execution_count": 330,
   "metadata": {
    "collapsed": false
   },
   "outputs": [],
   "source": [
    "result.to_csv('Uber_Taxi_Summary.csv', index=False)"
   ]
  },
  {
   "cell_type": "code",
   "execution_count": null,
   "metadata": {
    "collapsed": true
   },
   "outputs": [],
   "source": []
  },
  {
   "cell_type": "code",
   "execution_count": 212,
   "metadata": {
    "collapsed": true
   },
   "outputs": [],
   "source": [
    "summary = pd.read_csv('summary.csv')"
   ]
  },
  {
   "cell_type": "code",
   "execution_count": 215,
   "metadata": {
    "collapsed": false
   },
   "outputs": [],
   "source": [
    "summary['uber+taxi'] = summary['Count_uber_2015']+summary['Count_2015']"
   ]
  },
  {
   "cell_type": "code",
   "execution_count": 221,
   "metadata": {
    "collapsed": false
   },
   "outputs": [
    {
     "data": {
      "text/html": [
       "<div>\n",
       "<table border=\"1\" class=\"dataframe\">\n",
       "  <thead>\n",
       "    <tr style=\"text-align: right;\">\n",
       "      <th></th>\n",
       "      <th>Location_ID</th>\n",
       "      <th>Count_uber_2015</th>\n",
       "      <th>Count_2009</th>\n",
       "      <th>Count_2015</th>\n",
       "      <th>uber+taxi</th>\n",
       "    </tr>\n",
       "  </thead>\n",
       "  <tbody>\n",
       "    <tr>\n",
       "      <th>2</th>\n",
       "      <td>3</td>\n",
       "      <td>860</td>\n",
       "      <td>94</td>\n",
       "      <td>41</td>\n",
       "      <td>901</td>\n",
       "    </tr>\n",
       "    <tr>\n",
       "      <th>8</th>\n",
       "      <td>9</td>\n",
       "      <td>647</td>\n",
       "      <td>195</td>\n",
       "      <td>25</td>\n",
       "      <td>672</td>\n",
       "    </tr>\n",
       "    <tr>\n",
       "      <th>13</th>\n",
       "      <td>14</td>\n",
       "      <td>7586</td>\n",
       "      <td>1091</td>\n",
       "      <td>584</td>\n",
       "      <td>8170</td>\n",
       "    </tr>\n",
       "    <tr>\n",
       "      <th>14</th>\n",
       "      <td>15</td>\n",
       "      <td>685</td>\n",
       "      <td>207</td>\n",
       "      <td>27</td>\n",
       "      <td>712</td>\n",
       "    </tr>\n",
       "    <tr>\n",
       "      <th>15</th>\n",
       "      <td>16</td>\n",
       "      <td>1964</td>\n",
       "      <td>136</td>\n",
       "      <td>39</td>\n",
       "      <td>2003</td>\n",
       "    </tr>\n",
       "    <tr>\n",
       "      <th>16</th>\n",
       "      <td>17</td>\n",
       "      <td>17455</td>\n",
       "      <td>816</td>\n",
       "      <td>1383</td>\n",
       "      <td>18838</td>\n",
       "    </tr>\n",
       "    <tr>\n",
       "      <th>17</th>\n",
       "      <td>18</td>\n",
       "      <td>1449</td>\n",
       "      <td>99</td>\n",
       "      <td>93</td>\n",
       "      <td>1542</td>\n",
       "    </tr>\n",
       "    <tr>\n",
       "      <th>19</th>\n",
       "      <td>20</td>\n",
       "      <td>1692</td>\n",
       "      <td>82</td>\n",
       "      <td>42</td>\n",
       "      <td>1734</td>\n",
       "    </tr>\n",
       "    <tr>\n",
       "      <th>20</th>\n",
       "      <td>21</td>\n",
       "      <td>1870</td>\n",
       "      <td>931</td>\n",
       "      <td>119</td>\n",
       "      <td>1989</td>\n",
       "    </tr>\n",
       "    <tr>\n",
       "      <th>21</th>\n",
       "      <td>22</td>\n",
       "      <td>2245</td>\n",
       "      <td>0</td>\n",
       "      <td>0</td>\n",
       "      <td>2245</td>\n",
       "    </tr>\n",
       "    <tr>\n",
       "      <th>25</th>\n",
       "      <td>26</td>\n",
       "      <td>3653</td>\n",
       "      <td>634</td>\n",
       "      <td>210</td>\n",
       "      <td>3863</td>\n",
       "    </tr>\n",
       "    <tr>\n",
       "      <th>28</th>\n",
       "      <td>29</td>\n",
       "      <td>1000</td>\n",
       "      <td>308</td>\n",
       "      <td>125</td>\n",
       "      <td>1125</td>\n",
       "    </tr>\n",
       "    <tr>\n",
       "      <th>30</th>\n",
       "      <td>31</td>\n",
       "      <td>676</td>\n",
       "      <td>65</td>\n",
       "      <td>33</td>\n",
       "      <td>709</td>\n",
       "    </tr>\n",
       "    <tr>\n",
       "      <th>31</th>\n",
       "      <td>32</td>\n",
       "      <td>920</td>\n",
       "      <td>255</td>\n",
       "      <td>38</td>\n",
       "      <td>958</td>\n",
       "    </tr>\n",
       "    <tr>\n",
       "      <th>33</th>\n",
       "      <td>34</td>\n",
       "      <td>2054</td>\n",
       "      <td>525</td>\n",
       "      <td>142</td>\n",
       "      <td>2196</td>\n",
       "    </tr>\n",
       "    <tr>\n",
       "      <th>34</th>\n",
       "      <td>35</td>\n",
       "      <td>2230</td>\n",
       "      <td>512</td>\n",
       "      <td>614</td>\n",
       "      <td>2844</td>\n",
       "    </tr>\n",
       "    <tr>\n",
       "      <th>35</th>\n",
       "      <td>36</td>\n",
       "      <td>16938</td>\n",
       "      <td>1023</td>\n",
       "      <td>4244</td>\n",
       "      <td>21182</td>\n",
       "    </tr>\n",
       "    <tr>\n",
       "      <th>36</th>\n",
       "      <td>37</td>\n",
       "      <td>22380</td>\n",
       "      <td>0</td>\n",
       "      <td>0</td>\n",
       "      <td>22380</td>\n",
       "    </tr>\n",
       "    <tr>\n",
       "      <th>38</th>\n",
       "      <td>39</td>\n",
       "      <td>3680</td>\n",
       "      <td>315</td>\n",
       "      <td>160</td>\n",
       "      <td>3840</td>\n",
       "    </tr>\n",
       "    <tr>\n",
       "      <th>40</th>\n",
       "      <td>41</td>\n",
       "      <td>13366</td>\n",
       "      <td>1240</td>\n",
       "      <td>1276</td>\n",
       "      <td>14642</td>\n",
       "    </tr>\n",
       "    <tr>\n",
       "      <th>41</th>\n",
       "      <td>42</td>\n",
       "      <td>12730</td>\n",
       "      <td>0</td>\n",
       "      <td>0</td>\n",
       "      <td>12730</td>\n",
       "    </tr>\n",
       "    <tr>\n",
       "      <th>46</th>\n",
       "      <td>47</td>\n",
       "      <td>920</td>\n",
       "      <td>310</td>\n",
       "      <td>122</td>\n",
       "      <td>1042</td>\n",
       "    </tr>\n",
       "    <tr>\n",
       "      <th>48</th>\n",
       "      <td>49</td>\n",
       "      <td>17756</td>\n",
       "      <td>4744</td>\n",
       "      <td>7931</td>\n",
       "      <td>25687</td>\n",
       "    </tr>\n",
       "    <tr>\n",
       "      <th>49</th>\n",
       "      <td>50</td>\n",
       "      <td>31129</td>\n",
       "      <td>0</td>\n",
       "      <td>0</td>\n",
       "      <td>31129</td>\n",
       "    </tr>\n",
       "    <tr>\n",
       "      <th>50</th>\n",
       "      <td>51</td>\n",
       "      <td>930</td>\n",
       "      <td>121</td>\n",
       "      <td>40</td>\n",
       "      <td>970</td>\n",
       "    </tr>\n",
       "    <tr>\n",
       "      <th>53</th>\n",
       "      <td>54</td>\n",
       "      <td>2463</td>\n",
       "      <td>439</td>\n",
       "      <td>481</td>\n",
       "      <td>2944</td>\n",
       "    </tr>\n",
       "    <tr>\n",
       "      <th>54</th>\n",
       "      <td>55</td>\n",
       "      <td>1659</td>\n",
       "      <td>529</td>\n",
       "      <td>73</td>\n",
       "      <td>1732</td>\n",
       "    </tr>\n",
       "    <tr>\n",
       "      <th>55</th>\n",
       "      <td>56</td>\n",
       "      <td>1918</td>\n",
       "      <td>723</td>\n",
       "      <td>578</td>\n",
       "      <td>2496</td>\n",
       "    </tr>\n",
       "    <tr>\n",
       "      <th>56</th>\n",
       "      <td>57</td>\n",
       "      <td>180</td>\n",
       "      <td>0</td>\n",
       "      <td>0</td>\n",
       "      <td>180</td>\n",
       "    </tr>\n",
       "    <tr>\n",
       "      <th>59</th>\n",
       "      <td>60</td>\n",
       "      <td>549</td>\n",
       "      <td>159</td>\n",
       "      <td>58</td>\n",
       "      <td>607</td>\n",
       "    </tr>\n",
       "    <tr>\n",
       "      <th>...</th>\n",
       "      <td>...</td>\n",
       "      <td>...</td>\n",
       "      <td>...</td>\n",
       "      <td>...</td>\n",
       "      <td>...</td>\n",
       "    </tr>\n",
       "    <tr>\n",
       "      <th>192</th>\n",
       "      <td>197</td>\n",
       "      <td>2601</td>\n",
       "      <td>1009</td>\n",
       "      <td>231</td>\n",
       "      <td>2832</td>\n",
       "    </tr>\n",
       "    <tr>\n",
       "      <th>193</th>\n",
       "      <td>198</td>\n",
       "      <td>5827</td>\n",
       "      <td>960</td>\n",
       "      <td>766</td>\n",
       "      <td>6593</td>\n",
       "    </tr>\n",
       "    <tr>\n",
       "      <th>194</th>\n",
       "      <td>200</td>\n",
       "      <td>3070</td>\n",
       "      <td>1256</td>\n",
       "      <td>284</td>\n",
       "      <td>3354</td>\n",
       "    </tr>\n",
       "    <tr>\n",
       "      <th>199</th>\n",
       "      <td>205</td>\n",
       "      <td>1187</td>\n",
       "      <td>161</td>\n",
       "      <td>33</td>\n",
       "      <td>1220</td>\n",
       "    </tr>\n",
       "    <tr>\n",
       "      <th>204</th>\n",
       "      <td>210</td>\n",
       "      <td>1614</td>\n",
       "      <td>306</td>\n",
       "      <td>83</td>\n",
       "      <td>1697</td>\n",
       "    </tr>\n",
       "    <tr>\n",
       "      <th>207</th>\n",
       "      <td>213</td>\n",
       "      <td>1045</td>\n",
       "      <td>0</td>\n",
       "      <td>0</td>\n",
       "      <td>1045</td>\n",
       "    </tr>\n",
       "    <tr>\n",
       "      <th>209</th>\n",
       "      <td>215</td>\n",
       "      <td>917</td>\n",
       "      <td>456</td>\n",
       "      <td>311</td>\n",
       "      <td>1228</td>\n",
       "    </tr>\n",
       "    <tr>\n",
       "      <th>213</th>\n",
       "      <td>219</td>\n",
       "      <td>1000</td>\n",
       "      <td>0</td>\n",
       "      <td>0</td>\n",
       "      <td>1000</td>\n",
       "    </tr>\n",
       "    <tr>\n",
       "      <th>214</th>\n",
       "      <td>220</td>\n",
       "      <td>3379</td>\n",
       "      <td>114</td>\n",
       "      <td>62</td>\n",
       "      <td>3441</td>\n",
       "    </tr>\n",
       "    <tr>\n",
       "      <th>219</th>\n",
       "      <td>225</td>\n",
       "      <td>13007</td>\n",
       "      <td>1650</td>\n",
       "      <td>5217</td>\n",
       "      <td>18224</td>\n",
       "    </tr>\n",
       "    <tr>\n",
       "      <th>222</th>\n",
       "      <td>228</td>\n",
       "      <td>7383</td>\n",
       "      <td>0</td>\n",
       "      <td>0</td>\n",
       "      <td>7383</td>\n",
       "    </tr>\n",
       "    <tr>\n",
       "      <th>226</th>\n",
       "      <td>232</td>\n",
       "      <td>15044</td>\n",
       "      <td>5807</td>\n",
       "      <td>4298</td>\n",
       "      <td>19342</td>\n",
       "    </tr>\n",
       "    <tr>\n",
       "      <th>231</th>\n",
       "      <td>237</td>\n",
       "      <td>52535</td>\n",
       "      <td>0</td>\n",
       "      <td>0</td>\n",
       "      <td>52535</td>\n",
       "    </tr>\n",
       "    <tr>\n",
       "      <th>233</th>\n",
       "      <td>239</td>\n",
       "      <td>36075</td>\n",
       "      <td>0</td>\n",
       "      <td>0</td>\n",
       "      <td>36075</td>\n",
       "    </tr>\n",
       "    <tr>\n",
       "      <th>235</th>\n",
       "      <td>241</td>\n",
       "      <td>1664</td>\n",
       "      <td>130</td>\n",
       "      <td>93</td>\n",
       "      <td>1757</td>\n",
       "    </tr>\n",
       "    <tr>\n",
       "      <th>236</th>\n",
       "      <td>242</td>\n",
       "      <td>1636</td>\n",
       "      <td>188</td>\n",
       "      <td>89</td>\n",
       "      <td>1725</td>\n",
       "    </tr>\n",
       "    <tr>\n",
       "      <th>238</th>\n",
       "      <td>244</td>\n",
       "      <td>10527</td>\n",
       "      <td>0</td>\n",
       "      <td>0</td>\n",
       "      <td>10527</td>\n",
       "    </tr>\n",
       "    <tr>\n",
       "      <th>240</th>\n",
       "      <td>246</td>\n",
       "      <td>55473</td>\n",
       "      <td>0</td>\n",
       "      <td>0</td>\n",
       "      <td>55473</td>\n",
       "    </tr>\n",
       "    <tr>\n",
       "      <th>241</th>\n",
       "      <td>247</td>\n",
       "      <td>3537</td>\n",
       "      <td>0</td>\n",
       "      <td>0</td>\n",
       "      <td>3537</td>\n",
       "    </tr>\n",
       "    <tr>\n",
       "      <th>242</th>\n",
       "      <td>248</td>\n",
       "      <td>789</td>\n",
       "      <td>291</td>\n",
       "      <td>90</td>\n",
       "      <td>879</td>\n",
       "    </tr>\n",
       "    <tr>\n",
       "      <th>244</th>\n",
       "      <td>250</td>\n",
       "      <td>968</td>\n",
       "      <td>425</td>\n",
       "      <td>124</td>\n",
       "      <td>1092</td>\n",
       "    </tr>\n",
       "    <tr>\n",
       "      <th>245</th>\n",
       "      <td>251</td>\n",
       "      <td>157</td>\n",
       "      <td>67</td>\n",
       "      <td>15</td>\n",
       "      <td>172</td>\n",
       "    </tr>\n",
       "    <tr>\n",
       "      <th>246</th>\n",
       "      <td>252</td>\n",
       "      <td>1084</td>\n",
       "      <td>395</td>\n",
       "      <td>38</td>\n",
       "      <td>1122</td>\n",
       "    </tr>\n",
       "    <tr>\n",
       "      <th>248</th>\n",
       "      <td>254</td>\n",
       "      <td>1140</td>\n",
       "      <td>136</td>\n",
       "      <td>79</td>\n",
       "      <td>1219</td>\n",
       "    </tr>\n",
       "    <tr>\n",
       "      <th>249</th>\n",
       "      <td>255</td>\n",
       "      <td>42274</td>\n",
       "      <td>33406</td>\n",
       "      <td>31113</td>\n",
       "      <td>73387</td>\n",
       "    </tr>\n",
       "    <tr>\n",
       "      <th>250</th>\n",
       "      <td>256</td>\n",
       "      <td>28412</td>\n",
       "      <td>26320</td>\n",
       "      <td>27601</td>\n",
       "      <td>56013</td>\n",
       "    </tr>\n",
       "    <tr>\n",
       "      <th>251</th>\n",
       "      <td>257</td>\n",
       "      <td>4733</td>\n",
       "      <td>575</td>\n",
       "      <td>496</td>\n",
       "      <td>5229</td>\n",
       "    </tr>\n",
       "    <tr>\n",
       "      <th>252</th>\n",
       "      <td>258</td>\n",
       "      <td>2058</td>\n",
       "      <td>381</td>\n",
       "      <td>191</td>\n",
       "      <td>2249</td>\n",
       "    </tr>\n",
       "    <tr>\n",
       "      <th>257</th>\n",
       "      <td>263</td>\n",
       "      <td>25910</td>\n",
       "      <td>0</td>\n",
       "      <td>0</td>\n",
       "      <td>25910</td>\n",
       "    </tr>\n",
       "    <tr>\n",
       "      <th>258</th>\n",
       "      <td>265</td>\n",
       "      <td>1476</td>\n",
       "      <td>0</td>\n",
       "      <td>0</td>\n",
       "      <td>1476</td>\n",
       "    </tr>\n",
       "  </tbody>\n",
       "</table>\n",
       "<p>129 rows × 5 columns</p>\n",
       "</div>"
      ],
      "text/plain": [
       "     Location_ID  Count_uber_2015  Count_2009  Count_2015  uber+taxi\n",
       "2              3              860          94          41        901\n",
       "8              9              647         195          25        672\n",
       "13            14             7586        1091         584       8170\n",
       "14            15              685         207          27        712\n",
       "15            16             1964         136          39       2003\n",
       "16            17            17455         816        1383      18838\n",
       "17            18             1449          99          93       1542\n",
       "19            20             1692          82          42       1734\n",
       "20            21             1870         931         119       1989\n",
       "21            22             2245           0           0       2245\n",
       "25            26             3653         634         210       3863\n",
       "28            29             1000         308         125       1125\n",
       "30            31              676          65          33        709\n",
       "31            32              920         255          38        958\n",
       "33            34             2054         525         142       2196\n",
       "34            35             2230         512         614       2844\n",
       "35            36            16938        1023        4244      21182\n",
       "36            37            22380           0           0      22380\n",
       "38            39             3680         315         160       3840\n",
       "40            41            13366        1240        1276      14642\n",
       "41            42            12730           0           0      12730\n",
       "46            47              920         310         122       1042\n",
       "48            49            17756        4744        7931      25687\n",
       "49            50            31129           0           0      31129\n",
       "50            51              930         121          40        970\n",
       "53            54             2463         439         481       2944\n",
       "54            55             1659         529          73       1732\n",
       "55            56             1918         723         578       2496\n",
       "56            57              180           0           0        180\n",
       "59            60              549         159          58        607\n",
       "..           ...              ...         ...         ...        ...\n",
       "192          197             2601        1009         231       2832\n",
       "193          198             5827         960         766       6593\n",
       "194          200             3070        1256         284       3354\n",
       "199          205             1187         161          33       1220\n",
       "204          210             1614         306          83       1697\n",
       "207          213             1045           0           0       1045\n",
       "209          215              917         456         311       1228\n",
       "213          219             1000           0           0       1000\n",
       "214          220             3379         114          62       3441\n",
       "219          225            13007        1650        5217      18224\n",
       "222          228             7383           0           0       7383\n",
       "226          232            15044        5807        4298      19342\n",
       "231          237            52535           0           0      52535\n",
       "233          239            36075           0           0      36075\n",
       "235          241             1664         130          93       1757\n",
       "236          242             1636         188          89       1725\n",
       "238          244            10527           0           0      10527\n",
       "240          246            55473           0           0      55473\n",
       "241          247             3537           0           0       3537\n",
       "242          248              789         291          90        879\n",
       "244          250              968         425         124       1092\n",
       "245          251              157          67          15        172\n",
       "246          252             1084         395          38       1122\n",
       "248          254             1140         136          79       1219\n",
       "249          255            42274       33406       31113      73387\n",
       "250          256            28412       26320       27601      56013\n",
       "251          257             4733         575         496       5229\n",
       "252          258             2058         381         191       2249\n",
       "257          263            25910           0           0      25910\n",
       "258          265             1476           0           0       1476\n",
       "\n",
       "[129 rows x 5 columns]"
      ]
     },
     "execution_count": 221,
     "metadata": {},
     "output_type": "execute_result"
    }
   ],
   "source": [
    "summary[summary['uber+taxi']>summary['Count_2009']*2]"
   ]
  },
  {
   "cell_type": "code",
   "execution_count": null,
   "metadata": {
    "collapsed": true
   },
   "outputs": [],
   "source": []
  },
  {
   "cell_type": "code",
   "execution_count": 334,
   "metadata": {
    "collapsed": false
   },
   "outputs": [],
   "source": [
    "data_taxi_sample_2 = data_taxi[(data_taxi['Year'] == 2015) & (data_taxi['Month']<=6)]"
   ]
  },
  {
   "cell_type": "code",
   "execution_count": 336,
   "metadata": {
    "collapsed": false
   },
   "outputs": [],
   "source": [
    "taxi_result = data_taxi_sample_2.groupby('Location_ID')['Count'].sum()"
   ]
  },
  {
   "cell_type": "code",
   "execution_count": 337,
   "metadata": {
    "collapsed": true
   },
   "outputs": [],
   "source": [
    "taxi_result = taxi_result.reset_index(level=0)"
   ]
  },
  {
   "cell_type": "code",
   "execution_count": 340,
   "metadata": {
    "collapsed": false
   },
   "outputs": [],
   "source": [
    "taxi_result.drop(0, axis = 0, inplace=True)"
   ]
  },
  {
   "cell_type": "code",
   "execution_count": 342,
   "metadata": {
    "collapsed": false
   },
   "outputs": [
    {
     "name": "stderr",
     "output_type": "stream",
     "text": [
      "C:\\Users\\Hao\\Anaconda2\\lib\\site-packages\\ipykernel\\__main__.py:2: DeprecationWarning:\n",
      "\n",
      "using a non-integer number instead of an integer will result in an error in the future\n",
      "\n"
     ]
    }
   ],
   "source": [
    "taxi_result['Location_ID_new'] = map(ID_Transform, taxi_result.loc[:, 'Location_ID'].tolist())"
   ]
  },
  {
   "cell_type": "code",
   "execution_count": 344,
   "metadata": {
    "collapsed": false
   },
   "outputs": [],
   "source": [
    "taxi_result.to_csv('Taxi_distribution.csv')"
   ]
  },
  {
   "cell_type": "code",
   "execution_count": 190,
   "metadata": {
    "collapsed": true
   },
   "outputs": [],
   "source": [
    "Location_transform = np.load('nyc_lookup.npy')"
   ]
  },
  {
   "cell_type": "code",
   "execution_count": 196,
   "metadata": {
    "collapsed": false
   },
   "outputs": [],
   "source": [
    "def ID_Transform(id_value, trans = Location_transform):\n",
    "    index = trans[id_value-1][-1]\n",
    "    return index\n",
    "\n",
    "result = map(ID_Transform, data_uber.loc[:, 'locationID'].tolist())"
   ]
  },
  {
   "cell_type": "code",
   "execution_count": 198,
   "metadata": {
    "collapsed": false
   },
   "outputs": [
    {
     "data": {
      "text/html": [
       "<div>\n",
       "<table border=\"1\" class=\"dataframe\">\n",
       "  <thead>\n",
       "    <tr style=\"text-align: right;\">\n",
       "      <th></th>\n",
       "      <th>Dispatching_base_num</th>\n",
       "      <th>Pickup_date</th>\n",
       "      <th>Affiliated_base_num</th>\n",
       "      <th>locationID</th>\n",
       "      <th>Date</th>\n",
       "      <th>Year</th>\n",
       "      <th>Month</th>\n",
       "      <th>time</th>\n",
       "    </tr>\n",
       "  </thead>\n",
       "  <tbody>\n",
       "    <tr>\n",
       "      <th>0</th>\n",
       "      <td>B02617</td>\n",
       "      <td>2015-05-17 09:47:00</td>\n",
       "      <td>B02617</td>\n",
       "      <td>141</td>\n",
       "      <td>17</td>\n",
       "      <td>2015</td>\n",
       "      <td>5</td>\n",
       "      <td>9</td>\n",
       "    </tr>\n",
       "    <tr>\n",
       "      <th>1</th>\n",
       "      <td>B02617</td>\n",
       "      <td>2015-05-17 09:47:00</td>\n",
       "      <td>B02617</td>\n",
       "      <td>65</td>\n",
       "      <td>17</td>\n",
       "      <td>2015</td>\n",
       "      <td>5</td>\n",
       "      <td>9</td>\n",
       "    </tr>\n",
       "    <tr>\n",
       "      <th>2</th>\n",
       "      <td>B02617</td>\n",
       "      <td>2015-05-17 09:47:00</td>\n",
       "      <td>B02617</td>\n",
       "      <td>100</td>\n",
       "      <td>17</td>\n",
       "      <td>2015</td>\n",
       "      <td>5</td>\n",
       "      <td>9</td>\n",
       "    </tr>\n",
       "    <tr>\n",
       "      <th>3</th>\n",
       "      <td>B02617</td>\n",
       "      <td>2015-05-17 09:47:00</td>\n",
       "      <td>B02774</td>\n",
       "      <td>80</td>\n",
       "      <td>17</td>\n",
       "      <td>2015</td>\n",
       "      <td>5</td>\n",
       "      <td>9</td>\n",
       "    </tr>\n",
       "    <tr>\n",
       "      <th>4</th>\n",
       "      <td>B02617</td>\n",
       "      <td>2015-05-17 09:47:00</td>\n",
       "      <td>B02617</td>\n",
       "      <td>90</td>\n",
       "      <td>17</td>\n",
       "      <td>2015</td>\n",
       "      <td>5</td>\n",
       "      <td>9</td>\n",
       "    </tr>\n",
       "  </tbody>\n",
       "</table>\n",
       "</div>"
      ],
      "text/plain": [
       "  Dispatching_base_num          Pickup_date Affiliated_base_num  locationID  \\\n",
       "0               B02617  2015-05-17 09:47:00              B02617         141   \n",
       "1               B02617  2015-05-17 09:47:00              B02617          65   \n",
       "2               B02617  2015-05-17 09:47:00              B02617         100   \n",
       "3               B02617  2015-05-17 09:47:00              B02774          80   \n",
       "4               B02617  2015-05-17 09:47:00              B02617          90   \n",
       "\n",
       "   Date  Year  Month  time  \n",
       "0    17  2015      5     9  \n",
       "1    17  2015      5     9  \n",
       "2    17  2015      5     9  \n",
       "3    17  2015      5     9  \n",
       "4    17  2015      5     9  "
      ]
     },
     "execution_count": 198,
     "metadata": {},
     "output_type": "execute_result"
    }
   ],
   "source": [
    "data_uber.head()"
   ]
  },
  {
   "cell_type": "code",
   "execution_count": 203,
   "metadata": {
    "collapsed": false
   },
   "outputs": [],
   "source": [
    "data_uber['Transformed_ID'] = result"
   ]
  },
  {
   "cell_type": "code",
   "execution_count": 206,
   "metadata": {
    "collapsed": false
   },
   "outputs": [],
   "source": [
    "uber_distribution = data_uber.groupby(['Transformed_ID'])['time'].count().reset_index(level=0)"
   ]
  },
  {
   "cell_type": "code",
   "execution_count": 208,
   "metadata": {
    "collapsed": false
   },
   "outputs": [],
   "source": [
    "uber_distribution.rename(columns={'Transformed_ID': 'Location_ID_new', 'time': 'Count'}, inplace=True)"
   ]
  },
  {
   "cell_type": "code",
   "execution_count": 210,
   "metadata": {
    "collapsed": false
   },
   "outputs": [],
   "source": [
    "uber_distribution.to_csv('uber_distribution.csv')"
   ]
  },
  {
   "cell_type": "code",
   "execution_count": 189,
   "metadata": {
    "collapsed": false
   },
   "outputs": [],
   "source": [
    "result.to_csv('summary.csv', index = False)"
   ]
  },
  {
   "cell_type": "code",
   "execution_count": 178,
   "metadata": {
    "collapsed": false
   },
   "outputs": [],
   "source": [
    "uber_2015_06.rename(columns={'locationID': 'Location_ID', 'time': 'Count_uber_2015'}, inplace=True)"
   ]
  }
 ],
 "metadata": {
  "kernelspec": {
   "display_name": "Python 2",
   "language": "python",
   "name": "python2"
  },
  "language_info": {
   "codemirror_mode": {
    "name": "ipython",
    "version": 2
   },
   "file_extension": ".py",
   "mimetype": "text/x-python",
   "name": "python",
   "nbconvert_exporter": "python",
   "pygments_lexer": "ipython2",
   "version": "2.7.11"
  }
 },
 "nbformat": 4,
 "nbformat_minor": 0
}
